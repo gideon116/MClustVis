{
 "cells": [
  {
   "cell_type": "code",
   "execution_count": null,
   "metadata": {},
   "outputs": [],
   "source": [
    "# import widget classes and instantiate Network instance\n",
    "from clustergrammer2 import *\n",
    "net = Network(CGM2)\n",
    "# load matrix file\n",
    "net.load_file('clustergrammer-gepo.txt')\n",
    "\n",
    "# cluster using default parameters\n",
    "net.cluster(enrichrgram=True)\n",
    "\n",
    "# make interactive widget\n",
    "net.widget()"
   ]
  }
 ],
 "metadata": {
  "kernelspec": {
   "display_name": "Python 3",
   "language": "python",
   "name": "python3"
  },
  "language_info": {
   "codemirror_mode": {
    "name": "ipython",
    "version": 3
   },
   "file_extension": ".py",
   "mimetype": "text/x-python",
   "name": "python",
   "nbconvert_exporter": "python",
   "pygments_lexer": "ipython3",
   "version": "3.8.5"
  }
 },
 "nbformat": 4,
 "nbformat_minor": 4
}
