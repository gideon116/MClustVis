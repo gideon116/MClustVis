{
 "cells": [
  {
   "cell_type": "code",
   "execution_count": null,
   "metadata": {},
   "outputs": [],
   "source": [
    "\n",
    "from sklearn.preprocessing import scale\n",
    "from clustergram import Clustergram\n",
    "import pandas\n",
    "import matplotlib.pyplot as plt\n",
    "!rm predictResultListProteinWithoutSeq.csv\n",
    "!wget http://3.133.132.243/predictResultListProteinWithoutSeq.csv\n",
    "dataset=\"predictResultListProteinWithoutSeq.csv\"\n",
    "df = pandas.read_csv(dataset,sep= ';', header = 0)\n",
    "print(df)\n",
    "data = scale(df.drop(columns=['Gene_Locus', 'Protein_Name', 'Model','Decision']).dropna())\n",
    "cgram = Clustergram(range(1, 10))\n",
    "cgram.fit(data)\n",
    "cgram.plot()\n",
    "!rm FeatureResultListProteinToGram.csv\n",
    "!wget http://3.133.132.243/FeatureResultListProteinToGram.csv\n",
    "dataset=\"FeatureResultListProteinToGram.csv\"\n",
    "df = pandas.read_csv(dataset,sep= ';', header = 0)\n",
    "print(df)\n",
    "#data = scale(df.drop(columns=['Gene_Locus', 'Protein_Name', 'Model','Decision']).dropna())\n",
    "cgram = Clustergram(range(1, 10))\n",
    "cgram.fit(data)\n",
    "cgram.plot()\n"
   ]
  },
  {
   "cell_type": "code",
   "execution_count": null,
   "metadata": {},
   "outputs": [],
   "source": [
    "!jupyter nbextension enable --py --sys-prefix widgetsnbextension\n",
    "#!jupyter nbextension enable --py --sys-prefix clustergrammer_widget\n",
    "# import widget classes and instantiate Network instance\n",
    "from clustergrammer2 import *\n",
    "import numpy as np\n",
    "import pandas as pd\n",
    "net = Network(CGM2)\n",
    "# generate random matrix\n",
    "num_rows = 500\n",
    "num_cols = 10\n",
    "np.random.seed(seed=100)\n",
    "mat = np.random.rand(num_rows, num_cols)\n",
    "\n",
    "# make row and col labels\n",
    "rows = range(num_rows)\n",
    "cols = range(num_cols)\n",
    "rows = [str(i) for i in rows]\n",
    "cols = [str(i) for i in cols]\n",
    "\n",
    "# make dataframe \n",
    "df = pd.DataFrame(data=mat, columns=cols, index=rows)\n",
    "net.load_df(df)\n",
    "net.cluster(enrichrgram=False)\n",
    "net.widget()"
   ]
  },
  {
   "cell_type": "code",
   "execution_count": null,
   "metadata": {},
   "outputs": [],
   "source": [
    "import numpy as np\n",
    "import pandas as pd\n",
    "from clustergrammer2 import net, Network, CGM2\n",
    "import warnings\n",
    "\n",
    "warnings.filterwarnings('ignore')\n",
    "df = {}\n",
    "df['clean'] = pd.read_csv('rc_two_cat_clean.csv', index_col=0)\n",
    "df['meta_col'] = pd.read_csv('meta_col.csv', index_col=0)\n",
    "df['meta_cat'] = pd.read_csv('meta_cat_col.csv', index_col=0)\n",
    "\n",
    "net.load_df(df['clean'], meta_col=df['meta_col'])\n",
    "net.set_manual_category(col='Category', preferred_cats=df['meta_cat'])\n",
    "net.widget()"
   ]
  },
  {
   "cell_type": "code",
   "execution_count": null,
   "metadata": {},
   "outputs": [],
   "source": [
    "# import widget classes and instantiate Network instance\n",
    "from clustergrammer2 import *\n",
    "net = Network(CGM2)\n",
    "# load matrix file\n",
    "net.load_file('rc_two_cats.txt')\n",
    "\n",
    "# cluster using default parameters\n",
    "net.cluster(enrichrgram=True)\n",
    "\n",
    "# make interactive widget\n",
    "net.widget()"
   ]
  },
  {
   "cell_type": "code",
   "execution_count": null,
   "metadata": {},
   "outputs": [],
   "source": [
    "from clustergrammer2 import *\n",
    "net = Network(CGM2)\n",
    "\n",
    "# load matrix file\n",
    "net.load_file('rc_two_cats.txt')\n",
    "\n",
    "net.cluster(enrichrgram=True)\n",
    "\n",
    "# write visualization json to file\n",
    "net.write_json_to_file('viz', 'mult_view.json')"
   ]
  }
 ],
 "metadata": {
  "kernelspec": {
   "display_name": "Python 3",
   "language": "python",
   "name": "python3"
  },
  "language_info": {
   "codemirror_mode": {
    "name": "ipython",
    "version": 3
   },
   "file_extension": ".py",
   "mimetype": "text/x-python",
   "name": "python",
   "nbconvert_exporter": "python",
   "pygments_lexer": "ipython3",
   "version": "3.8.5"
  }
 },
 "nbformat": 4,
 "nbformat_minor": 4
}
