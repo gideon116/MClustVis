{
 "cells": [
  {
   "cell_type": "code",
   "execution_count": null,
   "metadata": {},
   "outputs": [],
   "source": [
    "import numpy as np\n",
    "import pandas as pd\n",
    "from clustergrammer2 import *\n",
    "net.load_file('predictResultListProteinWithoutSeq.csv')\n",
    "df = net.export_df()\n",
    "net.load_df(df)\n",
    "net.widget()"
   ]
  },
  {
   "cell_type": "code",
   "execution_count": null,
   "metadata": {},
   "outputs": [],
   "source": [
    "import numpy as np\n",
    "import pandas as pd\n",
    "from clustergrammer2 import *\n",
    "net.load_file('FeatureResultListProteinToGram.txt')\n",
    "df = net.export_df()\n",
    "net.load_df(df)\n",
    "net.widget()"
   ]
  },
  {
   "cell_type": "code",
   "execution_count": null,
   "metadata": {},
   "outputs": [],
   "source": [
    "import numpy as np\n",
    "import pandas as pd\n",
    "from clustergrammer2 import net, Network, CGM2\n",
    "import warnings\n",
    "\n",
    "warnings.filterwarnings('ignore')\n",
    "df = {}\n",
    "df['clean'] = pd.read_csv('rc_two_cat_clean.csv', index_col=0)\n",
    "df['meta_col'] = pd.read_csv('meta_col.csv', index_col=0)\n",
    "df['meta_cat'] = pd.read_csv('meta_cat_col.csv', index_col=0)\n",
    "\n",
    "net.load_df(df['clean'], meta_col=df['meta_col'])\n",
    "net.set_manual_category(col='Category', preferred_cats=df['meta_cat'])\n",
    "net.widget()"
   ]
  },
  {
   "cell_type": "code",
   "execution_count": null,
   "metadata": {},
   "outputs": [],
   "source": [
    "# import widget classes and instantiate Network instance\n",
    "from clustergrammer2 import *\n",
    "net = Network(CGM2)\n",
    "# load matrix file\n",
    "net.load_file('rc_two_cats.txt')\n",
    "\n",
    "# cluster using default parameters\n",
    "net.cluster(enrichrgram=True)\n",
    "\n",
    "# make interactive widget\n",
    "net.widget()"
   ]
  },
  {
   "cell_type": "code",
   "execution_count": null,
   "metadata": {},
   "outputs": [],
   "source": [
    "from clustergrammer2 import *\n",
    "net = Network(CGM2)\n",
    "\n",
    "# load matrix file\n",
    "net.load_file('rc_two_cats.txt')\n",
    "\n",
    "net.cluster(enrichrgram=True)\n",
    "\n",
    "# write visualization json to file\n",
    "net.write_json_to_file('viz', 'mult_view.json')"
   ]
  }
 ],
 "metadata": {
  "kernelspec": {
   "display_name": "Python 3",
   "language": "python",
   "name": "python3"
  },
  "language_info": {
   "codemirror_mode": {
    "name": "ipython",
    "version": 3
   },
   "file_extension": ".py",
   "mimetype": "text/x-python",
   "name": "python",
   "nbconvert_exporter": "python",
   "pygments_lexer": "ipython3",
   "version": "3.8.5"
  }
 },
 "nbformat": 4,
 "nbformat_minor": 4
}
